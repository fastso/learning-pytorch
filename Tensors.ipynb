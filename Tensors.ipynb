{
  "nbformat": 4,
  "nbformat_minor": 0,
  "metadata": {
    "colab": {
      "name": "Tensors",
      "provenance": [],
      "collapsed_sections": [],
      "authorship_tag": "ABX9TyODxIrn3HLuQ/RQMUa0ebh+",
      "include_colab_link": true
    },
    "kernelspec": {
      "name": "python3",
      "display_name": "Python 3"
    },
    "language_info": {
      "name": "python"
    }
  },
  "cells": [
    {
      "cell_type": "markdown",
      "metadata": {
        "id": "view-in-github",
        "colab_type": "text"
      },
      "source": [
        "<a href=\"https://colab.research.google.com/github/fastso/learning-pytorch/blob/main/Tensors.ipynb\" target=\"_parent\"><img src=\"https://colab.research.google.com/assets/colab-badge.svg\" alt=\"Open In Colab\"/></a>"
      ]
    },
    {
      "cell_type": "markdown",
      "metadata": {
        "id": "goTFWAqg16l9"
      },
      "source": [
        "## Simple CPU Example"
      ]
    },
    {
      "cell_type": "code",
      "metadata": {
        "colab": {
          "base_uri": "https://localhost:8080/"
        },
        "id": "sYBdrh5714RU",
        "outputId": "d6ea6831-f15a-4972-fd8d-ca4d34d359ef"
      },
      "source": [
        "import torch\n",
        "\n",
        "x = torch.tensor([[1,2,3],[4,5,6]])\n",
        "y = torch.tensor([[7,8,9],[10,11,12]])\n",
        "z = x + y\n",
        "print(z)"
      ],
      "execution_count": 1,
      "outputs": [
        {
          "output_type": "stream",
          "name": "stdout",
          "text": [
            "tensor([[ 8, 10, 12],\n",
            "        [14, 16, 18]])\n"
          ]
        }
      ]
    }
  ]
}